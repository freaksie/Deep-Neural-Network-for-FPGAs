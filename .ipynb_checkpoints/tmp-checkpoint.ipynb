{
 "cells": [
  {
   "cell_type": "code",
   "execution_count": 12,
   "metadata": {},
   "outputs": [
    {
     "name": "stdout",
     "output_type": "stream",
     "text": [
      "-1.0 0.6739999999999999\n",
      "111111 1010110010\n"
     ]
    }
   ],
   "source": [
    "import numpy as np\n",
    "x=  -0.326\n",
    "integer,fraction=(divmod(x, 1))\n",
    "print(integer,fraction)\n",
    "acc_frac=int(fraction*(2**10))\n",
    "fraction_binary=str(bin(acc_frac & 0xFFFF)[2:].zfill(10))\n",
    "if (int(integer)>=0):\n",
    "    integer_binary=str(bin(int(integer) & 0xFFFF)[2:].zfill(6))\n",
    "else:\n",
    "    integer_binary=str(bin(int(integer) & 0b111111)[-6:].zfill(6))\n",
    "\n",
    "print(integer_binary+\" \"+fraction_binary)"
   ]
  },
  {
   "cell_type": "code",
   "execution_count": 3,
   "metadata": {},
   "outputs": [
    {
     "name": "stdout",
     "output_type": "stream",
     "text": [
      "01111111111111111101000011\n"
     ]
    }
   ],
   "source": [
    "verilog_decimal = \"26'd33554243\"  \n",
    "decimal_value = int(verilog_decimal.split(\"'d\")[1])\n",
    "binary_representation = bin(decimal_value)[2:].zfill(26)\n",
    "\n",
    "# Print the 16-bit binary representation\n",
    "print(binary_representation)"
   ]
  },
  {
   "cell_type": "code",
   "execution_count": 22,
   "metadata": {},
   "outputs": [
    {
     "name": "stdout",
     "output_type": "stream",
     "text": [
      "Binary representation: 0000001110101111\n"
     ]
    }
   ],
   "source": [
    "def signed_hex_to_binary(hex_string):\n",
    "    # Convert the signed hexadecimal string to an integer\n",
    "    decimal_value = int(hex_string, 16)\n",
    "    \n",
    "    # Ensure the value fits within a 16-bit signed integer\n",
    "    if decimal_value < -32768 or decimal_value > 32767:\n",
    "        raise ValueError(\"Value is out of range for a 16-bit signed integer\")\n",
    "\n",
    "    # Convert the decimal value to a 16-bit binary string\n",
    "    binary_string = bin(decimal_value & 0xFFFF)[2:].zfill(16)\n",
    "    \n",
    "    return binary_string\n",
    "\n",
    "# Example usage\n",
    "hex_value = \"3AF\"  # Replace with your signed hexadecimal value\n",
    "binary_representation = signed_hex_to_binary(hex_value)\n",
    "print(\"Binary representation:\", binary_representation)"
   ]
  },
  {
   "cell_type": "code",
   "execution_count": 23,
   "metadata": {},
   "outputs": [
    {
     "name": "stdout",
     "output_type": "stream",
     "text": [
      "Integer: 0\n",
      "Fraction: 943\n",
      "Floating-Point Value: 0.921\n"
     ]
    }
   ],
   "source": [
    "\n",
    "\n",
    "binary_number = binary_representation[-16:]  # Replace with your 16-bit binary number\n",
    "# binary_number= '1111111010110001'\n",
    "# Split the binary number into integer and fraction parts\n",
    "integer_binary = binary_number[:6]\n",
    "fraction_binary = binary_number[6:]\n",
    "\n",
    "# Convert the integer and fraction parts to integers\n",
    "integer_value = int(integer_binary, 2)\n",
    "\n",
    "# Determine if the integer part is negative\n",
    "if integer_binary[0] == '1':\n",
    "    # It's a negative integer\n",
    "    integer_value -= 64  # 64 is 2^6, which is the range of 6-bit two's complement integers\n",
    "\n",
    "fraction_value = int(fraction_binary, 2)\n",
    "\n",
    "# Calculate the final floating-point value\n",
    "x = integer_value + (fraction_value / (2 ** len(fraction_binary)))\n",
    "\n",
    "print(f\"Integer: {integer_value}\")\n",
    "print(f\"Fraction: {fraction_value}\")\n",
    "print(f\"Floating-Point Value: {x:.3f}\")"
   ]
  },
  {
   "cell_type": "markdown",
   "metadata": {},
   "source": [
    "## 32 bit"
   ]
  },
  {
   "cell_type": "code",
   "execution_count": 3,
   "metadata": {},
   "outputs": [
    {
     "name": "stdout",
     "output_type": "stream",
     "text": [
      "0.0 0.24235\n",
      "0000000000000000 0011111000001010\n"
     ]
    }
   ],
   "source": [
    "import numpy as np\n",
    "x=  0.24235\n",
    "integer,fraction=(divmod(x, 1))\n",
    "print(integer,fraction)\n",
    "acc_frac=int(fraction*(2**16))\n",
    "fraction_binary=str(bin(acc_frac & 0xFFFFF)[2:].zfill(16))\n",
    "if (int(integer)>=0):\n",
    "    integer_binary=str(bin(int(integer) & 0xFFFFF)[2:].zfill(16))\n",
    "else:\n",
    "    integer_binary=str(bin(int(integer) & 0b1111111111111111)[2:].zfill(16))\n",
    "\n",
    "print(integer_binary+\" \"+fraction_binary)\n",
    "\n"
   ]
  },
  {
   "cell_type": "code",
   "execution_count": 4,
   "metadata": {},
   "outputs": [
    {
     "name": "stdout",
     "output_type": "stream",
     "text": [
      "00000000000000000011111000001010\n"
     ]
    }
   ],
   "source": [
    "verilog_decimal = \"32'd15882\"  \n",
    "decimal_value = int(verilog_decimal.split(\"'d\")[1])\n",
    "binary_representation = bin(decimal_value)[2:].zfill(32)\n",
    "\n",
    "# Print the 16-bit binary representation\n",
    "print(binary_representation)"
   ]
  },
  {
   "cell_type": "code",
   "execution_count": 5,
   "metadata": {},
   "outputs": [
    {
     "name": "stdout",
     "output_type": "stream",
     "text": [
      "Integer: 0\n",
      "Fraction: 15882\n",
      "Floating-Point Value: 0.242\n"
     ]
    }
   ],
   "source": [
    "binary_number = binary_representation[-32:]  # Replace with your 16-bit binary number\n",
    "\n",
    "# Split the binary number into integer and fraction parts\n",
    "integer_binary = binary_number[:16]\n",
    "fraction_binary = binary_number[16:]\n",
    "\n",
    "# Convert the integer and fraction parts to integers\n",
    "integer_value = int(integer_binary, 2)\n",
    "\n",
    "# Determine if the integer part is negative\n",
    "if integer_binary[0] == '1':\n",
    "    # It's a negative integer\n",
    "    integer_value -= 2**16  # 64 is 2^6, which is the range of 6-bit two's complement integers\n",
    "\n",
    "fraction_value = int(fraction_binary, 2)\n",
    "\n",
    "# Calculate the final floating-point value\n",
    "x = integer_value + (fraction_value / (2 ** len(fraction_binary)))\n",
    "\n",
    "print(f\"Integer: {integer_value}\")\n",
    "print(f\"Fraction: {fraction_value}\")\n",
    "print(f\"Floating-Point Value: {x:.3f}\")"
   ]
  },
  {
   "cell_type": "code",
   "execution_count": null,
   "metadata": {},
   "outputs": [],
   "source": []
  }
 ],
 "metadata": {
  "kernelspec": {
   "display_name": "readout",
   "language": "python",
   "name": "readout"
  },
  "language_info": {
   "codemirror_mode": {
    "name": "ipython",
    "version": 3
   },
   "file_extension": ".py",
   "mimetype": "text/x-python",
   "name": "python",
   "nbconvert_exporter": "python",
   "pygments_lexer": "ipython3",
   "version": "3.10.0"
  }
 },
 "nbformat": 4,
 "nbformat_minor": 2
}
