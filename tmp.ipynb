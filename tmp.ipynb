{
 "cells": [
  {
   "cell_type": "code",
   "execution_count": 35,
   "metadata": {},
   "outputs": [
    {
     "name": "stdout",
     "output_type": "stream",
     "text": [
      "0.0 0.627\n",
      "642\n",
      "000000 1010000010\n",
      "Integer representation: 642\n"
     ]
    }
   ],
   "source": [
    "import numpy as np\n",
    "x=  0.627\n",
    "integer,fraction=(divmod(x, 1))\n",
    "print(integer,fraction)\n",
    "acc_frac=int(fraction*(2**10))\n",
    "print(acc_frac)\n",
    "fraction_binary=str(bin(acc_frac & 0xFFFF)[2:].zfill(10))\n",
    "if (int(integer)>=0):\n",
    "    integer_binary=str(bin(int(integer) & 0xFFFF)[2:].zfill(6))\n",
    "else:\n",
    "    integer_binary=str(bin(int(integer) & 0b111111)[-6:].zfill(6))\n",
    "\n",
    "print(integer_binary+\" \"+fraction_binary)\n",
    "\n",
    "\n",
    "def binary_to_integer(binary_string):\n",
    "    # Convert the binary string to an integer\n",
    "    decimal_value = int(binary_string, 2)\n",
    "    \n",
    "    return decimal_value\n",
    "\n",
    "# Example usage\n",
    "binary_value = integer_binary+fraction_binary  # Replace with your 16-bit binary value\n",
    "integer_value = binary_to_integer(binary_value)\n",
    "print(\"Integer representation:\", integer_value)"
   ]
  },
  {
   "cell_type": "code",
   "execution_count": 49,
   "metadata": {},
   "outputs": [
    {
     "name": "stdout",
     "output_type": "stream",
     "text": [
      "0000000100110000\n"
     ]
    }
   ],
   "source": [
    "verilog_decimal = \"16'd304\"  \n",
    "decimal_value = int(verilog_decimal.split(\"'d\")[1])\n",
    "binary_representation = bin(decimal_value)[2:].zfill(16)\n",
    "\n",
    "# Print the 16-bit binary representation\n",
    "print(binary_representation)"
   ]
  },
  {
   "cell_type": "code",
   "execution_count": 13,
   "metadata": {},
   "outputs": [
    {
     "name": "stdout",
     "output_type": "stream",
     "text": [
      "Binary representation: 1111111001110011\n",
      "Integer representation: 65139\n"
     ]
    }
   ],
   "source": [
    "def signed_hex_to_binary(hex_string):\n",
    "    # Convert the signed hexadecimal string to an integer\n",
    "    decimal_value = int(hex_string, 16)\n",
    "    \n",
    "    # Ensure the value fits within a 16-bit signed integer\n",
    "    if decimal_value < -32768 or decimal_value > 32767:\n",
    "        raise ValueError(\"Value is out of range for a 16-bit signed integer\")\n",
    "\n",
    "    # Convert the decimal value to a 16-bit binary string\n",
    "    binary_string = bin(decimal_value & 0xFFFF)[2:].zfill(16)\n",
    "    \n",
    "    return binary_string\n",
    "\n",
    "# Example usage\n",
    "hex_value = \"-18D\"  # Replace with your signed hexadecimal value\n",
    "binary_representation = signed_hex_to_binary(hex_value)\n",
    "print(\"Binary representation:\", binary_representation)\n",
    "integer_value = binary_to_integer(binary_representation)\n",
    "print(\"Integer representation:\", integer_value)"
   ]
  },
  {
   "cell_type": "code",
   "execution_count": 51,
   "metadata": {},
   "outputs": [
    {
     "name": "stdout",
     "output_type": "stream",
     "text": [
      "Integer: 0\n",
      "Fraction: 304\n",
      "Floating-Point Value: 0.297\n"
     ]
    }
   ],
   "source": [
    "\n",
    "\n",
    "# binary_number = binary_representation[-16:]  # Replace with your 16-bit binary number\n",
    "binary_number= '0000000100110000'\n",
    "# Split the binary number into integer and fraction parts\n",
    "integer_binary = binary_number[:6]\n",
    "fraction_binary = binary_number[6:]\n",
    "\n",
    "# Convert the integer and fraction parts to integers\n",
    "integer_value = int(integer_binary, 2)\n",
    "\n",
    "# Determine if the integer part is negative\n",
    "if integer_binary[0] == '1':\n",
    "    # It's a negative integer\n",
    "    integer_value -= 64  # 64 is 2^6, which is the range of 6-bit two's complement integers\n",
    "\n",
    "fraction_value = int(fraction_binary, 2)\n",
    "\n",
    "# Calculate the final floating-point value\n",
    "x = integer_value + (fraction_value / (2 ** len(fraction_binary)))\n",
    "\n",
    "print(f\"Integer: {integer_value}\")\n",
    "print(f\"Fraction: {fraction_value}\")\n",
    "print(f\"Floating-Point Value: {x:.3f}\")"
   ]
  },
  {
   "cell_type": "markdown",
   "metadata": {},
   "source": [
    "## TMP"
   ]
  },
  {
   "cell_type": "code",
   "execution_count": 2,
   "metadata": {},
   "outputs": [
    {
     "name": "stdout",
     "output_type": "stream",
     "text": [
      "0.0 0.5404\n",
      "2213\n",
      "000000 100010100101\n",
      "Integer representation: 2213\n"
     ]
    }
   ],
   "source": [
    "import numpy as np\n",
    "x = 0.5404\n",
    "\n",
    "integer,fraction=(divmod(x, 1))\n",
    "print(integer,fraction)\n",
    "acc_frac=int(fraction*(2**12))\n",
    "print(acc_frac)\n",
    "fraction_binary=str(bin(acc_frac & 0xFFFF)[2:].zfill(12))\n",
    "if (int(integer)>=0):\n",
    "    integer_binary=str(bin(int(integer) & 0xFFFF)[2:].zfill(6))\n",
    "else:\n",
    "    integer_binary=str(bin(int(integer) & 0b111111)[2:].zfill(6))\n",
    "\n",
    "print(integer_binary+\" \"+fraction_binary)\n",
    "\n",
    "\n",
    "def binary_to_integer(binary_string):\n",
    "    decimal_value = int(binary_string, 2)\n",
    "    \n",
    "    return decimal_value\n",
    "\n",
    "# Example usage\n",
    "binary_value = integer_binary+fraction_binary \n",
    "integer_value = binary_to_integer(binary_value)\n",
    "print(\"Integer representation:\", integer_value)"
   ]
  },
  {
   "cell_type": "code",
   "execution_count": 39,
   "metadata": {},
   "outputs": [
    {
     "name": "stdout",
     "output_type": "stream",
     "text": [
      "Integer: -1\n",
      "Fraction: 3622\n",
      "Floating-Point Value: -0.1157\n"
     ]
    }
   ],
   "source": [
    "# binary_number = binary_representation[-16:]  \n",
    "binary_number= '111111111000100110'\n",
    "# 111111110000110011\n",
    "# 111111101101001110\n",
    "\n",
    "\n",
    "integer_binary = binary_number[:6]\n",
    "fraction_binary = binary_number[6:]\n",
    "\n",
    "\n",
    "integer_value = int(integer_binary, 2)\n",
    "\n",
    "# Determine if the integer part is negative\n",
    "if integer_binary[0] == '1':\n",
    "    integer_value -= 2**6 # 64 is 2^6, which is the range of 6-bit two's complement integers\n",
    "\n",
    "fraction_value = int(fraction_binary, 2)\n",
    "\n",
    "x = integer_value + (fraction_value / (2 ** len(fraction_binary)))\n",
    "\n",
    "print(f\"Integer: {integer_value}\")\n",
    "print(f\"Fraction: {fraction_value}\")\n",
    "print(f\"Floating-Point Value: {x:.4f}\")"
   ]
  },
  {
   "cell_type": "code",
   "execution_count": 42,
   "metadata": {},
   "outputs": [],
   "source": [
    "def convert(x):\n",
    "    integer,fraction=(divmod(x, 1))\n",
    "\n",
    "    acc_frac=int(fraction*(2**12))\n",
    "\n",
    "    fraction_binary=str(bin(acc_frac & 0xFFFF)[2:].zfill(12))\n",
    "    if (int(integer)>=0):\n",
    "        integer_binary=str(bin(int(integer) & 0xFFFF)[2:].zfill(6))\n",
    "    else:\n",
    "        integer_binary=str(bin(int(integer) & 0b111111)[2:].zfill(6))\n",
    "\n",
    "\n",
    "\n",
    "\n",
    "    def binary_to_integer(binary_string):\n",
    "        decimal_value = int(binary_string, 2)\n",
    "        \n",
    "        return decimal_value\n",
    "\n",
    "    # Example usage\n",
    "    binary_value = integer_binary+fraction_binary \n",
    "    integer_value = binary_to_integer(binary_value)\n",
    "\n",
    "    return integer_value\n",
    "\n",
    "Val=[5.581149101257]\n",
    "dic={}\n",
    "for x in Val:\n",
    "    inti=convert(x)\n",
    "    dic[x]=inti"
   ]
  },
  {
   "cell_type": "code",
   "execution_count": 43,
   "metadata": {},
   "outputs": [
    {
     "name": "stdout",
     "output_type": "stream",
     "text": [
      "w0_0 = 22860 ;\n"
     ]
    }
   ],
   "source": [
    "first,second=0,0\n",
    "for i in dic:\n",
    "    if second==4:\n",
    "        second=0\n",
    "        first+=1\n",
    "    print(\"w{}_{} = {} ;\".format(first,second,dic[i]))\n",
    "    second+=1"
   ]
  },
  {
   "cell_type": "markdown",
   "metadata": {},
   "source": [
    "## 32 bit"
   ]
  },
  {
   "cell_type": "code",
   "execution_count": 84,
   "metadata": {},
   "outputs": [
    {
     "name": "stdout",
     "output_type": "stream",
     "text": [
      "-200000 0\n",
      "11111111111111001111001011000000\n",
      "Integer representation: 4294767296\n"
     ]
    }
   ],
   "source": [
    "import numpy as np\n",
    "x= -200000\n",
    "integer,fraction=(divmod(x, 1))\n",
    "print(integer,fraction)\n",
    "if (int(integer)>=0):\n",
    "    integer_binary=str(bin(int(integer) & 0xFFFFFFFFF)[2:].zfill(32))\n",
    "else:\n",
    "    integer_binary=str(bin(int(integer) & 0b11111111111111111111111111111111)[2:].zfill(32))\n",
    "\n",
    "print(integer_binary)\n",
    "\n",
    "\n",
    "def binary_to_integer(binary_string):\n",
    "    # Convert the binary string to an integer\n",
    "    decimal_value = int(binary_string, 2)\n",
    "    \n",
    "    return decimal_value\n",
    "\n",
    "# Example usage\n",
    "binary_value = integer_binary  # Replace with your 16-bit binary value\n",
    "integer_value = binary_to_integer(binary_value)\n",
    "print(\"Integer representation:\", integer_value)"
   ]
  },
  {
   "cell_type": "markdown",
   "metadata": {},
   "source": [
    "## 18 bit \n",
    "signed range -2^18 + 2^18, requries 19 bit"
   ]
  },
  {
   "cell_type": "code",
   "execution_count": 80,
   "metadata": {},
   "outputs": [
    {
     "name": "stdout",
     "output_type": "stream",
     "text": [
      "-262141 0\n",
      "1000000000000000011\n",
      "Integer representation: 262147\n"
     ]
    }
   ],
   "source": [
    "import numpy as np\n",
    "x=  -262141\n",
    "integer,fraction=(divmod(x, 1))\n",
    "print(integer,fraction)\n",
    "if (int(integer)>=0):\n",
    "    integer_binary=str(bin(int(integer) & 0xFFFFFFFFF)[2:].zfill(19))\n",
    "else:\n",
    "    integer_binary=str(bin(int(integer) & 0b1111111111111111111)[2:].zfill(19))\n",
    "\n",
    "print(integer_binary)\n",
    "\n",
    "\n",
    "def binary_to_integer(binary_string):\n",
    "    # Convert the binary string to an integer\n",
    "    decimal_value = int(binary_string, 2)\n",
    "    \n",
    "    return decimal_value\n",
    "\n",
    "# Example usage\n",
    "binary_value = integer_binary  # Replace with your 16-bit binary value\n",
    "integer_value = binary_to_integer(binary_value)\n",
    "print(\"Integer representation:\", integer_value)"
   ]
  },
  {
   "cell_type": "code",
   "execution_count": null,
   "metadata": {},
   "outputs": [],
   "source": []
  }
 ],
 "metadata": {
  "kernelspec": {
   "display_name": "readout",
   "language": "python",
   "name": "python3"
  },
  "language_info": {
   "codemirror_mode": {
    "name": "ipython",
    "version": 3
   },
   "file_extension": ".py",
   "mimetype": "text/x-python",
   "name": "python",
   "nbconvert_exporter": "python",
   "pygments_lexer": "ipython3",
   "version": "3.10.0"
  }
 },
 "nbformat": 4,
 "nbformat_minor": 2
}
