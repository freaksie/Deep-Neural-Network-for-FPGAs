{
 "cells": [
  {
   "cell_type": "code",
   "execution_count": 2,
   "metadata": {},
   "outputs": [
    {
     "name": "stdout",
     "output_type": "stream",
     "text": [
      "-1.0 0.719\n",
      "736\n",
      "111111 1011100000\n",
      "Integer representation: 65248\n"
     ]
    }
   ],
   "source": [
    "import numpy as np\n",
    "x=  -0.281\n",
    "integer,fraction=(divmod(x, 1))\n",
    "print(integer,fraction)\n",
    "acc_frac=int(fraction*(2**10))\n",
    "print(acc_frac)\n",
    "fraction_binary=str(bin(acc_frac & 0xFFFF)[2:].zfill(10))\n",
    "if (int(integer)>=0):\n",
    "    integer_binary=str(bin(int(integer) & 0xFFFF)[2:].zfill(6))\n",
    "else:\n",
    "    integer_binary=str(bin(int(integer) & 0b111111)[-6:].zfill(6))\n",
    "\n",
    "print(integer_binary+\" \"+fraction_binary)\n",
    "\n",
    "\n",
    "def binary_to_integer(binary_string):\n",
    "    # Convert the binary string to an integer\n",
    "    decimal_value = int(binary_string, 2)\n",
    "    \n",
    "    return decimal_value\n",
    "\n",
    "# Example usage\n",
    "binary_value = integer_binary+fraction_binary  # Replace with your 16-bit binary value\n",
    "integer_value = binary_to_integer(binary_value)\n",
    "print(\"Integer representation:\", integer_value)"
   ]
  },
  {
   "cell_type": "code",
   "execution_count": 49,
   "metadata": {},
   "outputs": [
    {
     "name": "stdout",
     "output_type": "stream",
     "text": [
      "0000000100110000\n"
     ]
    }
   ],
   "source": [
    "verilog_decimal = \"16'd304\"  \n",
    "decimal_value = int(verilog_decimal.split(\"'d\")[1])\n",
    "binary_representation = bin(decimal_value)[2:].zfill(16)\n",
    "\n",
    "# Print the 16-bit binary representation\n",
    "print(binary_representation)"
   ]
  },
  {
   "cell_type": "code",
   "execution_count": 13,
   "metadata": {},
   "outputs": [
    {
     "name": "stdout",
     "output_type": "stream",
     "text": [
      "Binary representation: 1111111001110011\n",
      "Integer representation: 65139\n"
     ]
    }
   ],
   "source": [
    "def signed_hex_to_binary(hex_string):\n",
    "    # Convert the signed hexadecimal string to an integer\n",
    "    decimal_value = int(hex_string, 16)\n",
    "    \n",
    "    # Ensure the value fits within a 16-bit signed integer\n",
    "    if decimal_value < -32768 or decimal_value > 32767:\n",
    "        raise ValueError(\"Value is out of range for a 16-bit signed integer\")\n",
    "\n",
    "    # Convert the decimal value to a 16-bit binary string\n",
    "    binary_string = bin(decimal_value & 0xFFFF)[2:].zfill(16)\n",
    "    \n",
    "    return binary_string\n",
    "\n",
    "# Example usage\n",
    "hex_value = \"-18D\"  # Replace with your signed hexadecimal value\n",
    "binary_representation = signed_hex_to_binary(hex_value)\n",
    "print(\"Binary representation:\", binary_representation)\n",
    "integer_value = binary_to_integer(binary_representation)\n",
    "print(\"Integer representation:\", integer_value)"
   ]
  },
  {
   "cell_type": "code",
   "execution_count": 51,
   "metadata": {},
   "outputs": [
    {
     "name": "stdout",
     "output_type": "stream",
     "text": [
      "Integer: 0\n",
      "Fraction: 304\n",
      "Floating-Point Value: 0.297\n"
     ]
    }
   ],
   "source": [
    "\n",
    "\n",
    "# binary_number = binary_representation[-16:]  # Replace with your 16-bit binary number\n",
    "binary_number= '0000000100110000'\n",
    "# Split the binary number into integer and fraction parts\n",
    "integer_binary = binary_number[:6]\n",
    "fraction_binary = binary_number[6:]\n",
    "\n",
    "# Convert the integer and fraction parts to integers\n",
    "integer_value = int(integer_binary, 2)\n",
    "\n",
    "# Determine if the integer part is negative\n",
    "if integer_binary[0] == '1':\n",
    "    # It's a negative integer\n",
    "    integer_value -= 64  # 64 is 2^6, which is the range of 6-bit two's complement integers\n",
    "\n",
    "fraction_value = int(fraction_binary, 2)\n",
    "\n",
    "# Calculate the final floating-point value\n",
    "x = integer_value + (fraction_value / (2 ** len(fraction_binary)))\n",
    "\n",
    "print(f\"Integer: {integer_value}\")\n",
    "print(f\"Fraction: {fraction_value}\")\n",
    "print(f\"Floating-Point Value: {x:.3f}\")"
   ]
  },
  {
   "cell_type": "markdown",
   "metadata": {},
   "source": [
    "## TMP"
   ]
  },
  {
   "cell_type": "code",
   "execution_count": 37,
   "metadata": {},
   "outputs": [
    {
     "name": "stdout",
     "output_type": "stream",
     "text": [
      "1.0 0.6384000000000001\n",
      "10459\n",
      "0001 10100011011011\n",
      "Integer representation: 26843\n"
     ]
    }
   ],
   "source": [
    "import numpy as np\n",
    "x=  1.6384\n",
    "integer,fraction=(divmod(x, 1))\n",
    "print(integer,fraction)\n",
    "acc_frac=int(fraction*(2**14))\n",
    "print(acc_frac)\n",
    "fraction_binary=str(bin(acc_frac & 0xFFFF)[2:].zfill(12))\n",
    "if (int(integer)>=0):\n",
    "    integer_binary=str(bin(int(integer) & 0xFFFF)[2:].zfill(6))\n",
    "else:\n",
    "    integer_binary=str(bin(int(integer) & 0b111111)[2:].zfill(6))\n",
    "\n",
    "print(integer_binary+\" \"+fraction_binary)\n",
    "\n",
    "\n",
    "def binary_to_integer(binary_string):\n",
    "    decimal_value = int(binary_string, 2)\n",
    "    \n",
    "    return decimal_value\n",
    "\n",
    "# Example usage\n",
    "binary_value = integer_binary+fraction_binary \n",
    "integer_value = binary_to_integer(binary_value)\n",
    "print(\"Integer representation:\", integer_value)"
   ]
  },
  {
   "cell_type": "code",
   "execution_count": 1,
   "metadata": {},
   "outputs": [
    {
     "name": "stdout",
     "output_type": "stream",
     "text": [
      "Integer: 0\n",
      "Fraction: 8190\n",
      "Floating-Point Value: 0.4999\n"
     ]
    }
   ],
   "source": [
    "# binary_number = binary_representation[-16:]  \n",
    "binary_number= '000001111111111110'\n",
    "# 00111011011100\n",
    "integer_binary = binary_number[:4]\n",
    "fraction_binary = binary_number[4:]\n",
    "\n",
    "\n",
    "integer_value = int(integer_binary, 2)\n",
    "\n",
    "# Determine if the integer part is negative\n",
    "if integer_binary[0] == '1':\n",
    "    integer_value -= 2**4 # 64 is 2^6, which is the range of 6-bit two's complement integers\n",
    "\n",
    "fraction_value = int(fraction_binary, 2)\n",
    "\n",
    "x = integer_value + (fraction_value / (2 ** len(fraction_binary)))\n",
    "\n",
    "print(f\"Integer: {integer_value}\")\n",
    "print(f\"Fraction: {fraction_value}\")\n",
    "print(f\"Floating-Point Value: {x:.4f}\")"
   ]
  },
  {
   "cell_type": "code",
   "execution_count": 74,
   "metadata": {},
   "outputs": [
    {
     "data": {
      "text/plain": [
       "262144"
      ]
     },
     "execution_count": 74,
     "metadata": {},
     "output_type": "execute_result"
    }
   ],
   "source": [
    "2**18"
   ]
  },
  {
   "cell_type": "code",
   "execution_count": 83,
   "metadata": {},
   "outputs": [
    {
     "data": {
      "text/plain": [
       "0.11852836608886719"
      ]
     },
     "execution_count": 83,
     "metadata": {},
     "output_type": "execute_result"
    }
   ],
   "source": [
    "(-200000 + (2**18)-1)/(2**19)"
   ]
  },
  {
   "cell_type": "markdown",
   "metadata": {},
   "source": [
    "## 32 bit"
   ]
  },
  {
   "cell_type": "code",
   "execution_count": 84,
   "metadata": {},
   "outputs": [
    {
     "name": "stdout",
     "output_type": "stream",
     "text": [
      "-200000 0\n",
      "11111111111111001111001011000000\n",
      "Integer representation: 4294767296\n"
     ]
    }
   ],
   "source": [
    "import numpy as np\n",
    "x= -200000\n",
    "integer,fraction=(divmod(x, 1))\n",
    "print(integer,fraction)\n",
    "if (int(integer)>=0):\n",
    "    integer_binary=str(bin(int(integer) & 0xFFFFFFFFF)[2:].zfill(32))\n",
    "else:\n",
    "    integer_binary=str(bin(int(integer) & 0b11111111111111111111111111111111)[2:].zfill(32))\n",
    "\n",
    "print(integer_binary)\n",
    "\n",
    "\n",
    "def binary_to_integer(binary_string):\n",
    "    # Convert the binary string to an integer\n",
    "    decimal_value = int(binary_string, 2)\n",
    "    \n",
    "    return decimal_value\n",
    "\n",
    "# Example usage\n",
    "binary_value = integer_binary  # Replace with your 16-bit binary value\n",
    "integer_value = binary_to_integer(binary_value)\n",
    "print(\"Integer representation:\", integer_value)"
   ]
  },
  {
   "cell_type": "markdown",
   "metadata": {},
   "source": [
    "## 18 bit \n",
    "signed range -2^18 + 2^18, requries 19 bit"
   ]
  },
  {
   "cell_type": "code",
   "execution_count": 80,
   "metadata": {},
   "outputs": [
    {
     "name": "stdout",
     "output_type": "stream",
     "text": [
      "-262141 0\n",
      "1000000000000000011\n",
      "Integer representation: 262147\n"
     ]
    }
   ],
   "source": [
    "import numpy as np\n",
    "x=  -262141\n",
    "integer,fraction=(divmod(x, 1))\n",
    "print(integer,fraction)\n",
    "if (int(integer)>=0):\n",
    "    integer_binary=str(bin(int(integer) & 0xFFFFFFFFF)[2:].zfill(19))\n",
    "else:\n",
    "    integer_binary=str(bin(int(integer) & 0b1111111111111111111)[2:].zfill(19))\n",
    "\n",
    "print(integer_binary)\n",
    "\n",
    "\n",
    "def binary_to_integer(binary_string):\n",
    "    # Convert the binary string to an integer\n",
    "    decimal_value = int(binary_string, 2)\n",
    "    \n",
    "    return decimal_value\n",
    "\n",
    "# Example usage\n",
    "binary_value = integer_binary  # Replace with your 16-bit binary value\n",
    "integer_value = binary_to_integer(binary_value)\n",
    "print(\"Integer representation:\", integer_value)"
   ]
  },
  {
   "cell_type": "code",
   "execution_count": 7,
   "metadata": {},
   "outputs": [
    {
     "name": "stdout",
     "output_type": "stream",
     "text": [
      "assign sdif[i].sdpara[0] = 32'd6758;\n",
      "assign sdif[i].sdpara[1] = 32'd259969;\n",
      "assign sdif[i].sdpara[2] = 32'd259366;\n",
      "assign sdif[i].sdpara[3] = 32'd259017;\n",
      "assign sdif[i].sdpara[4] = 32'd1256;\n",
      "assign sdif[i].sdpara[5] = 32'd259544;\n",
      "assign sdif[i].sdpara[6] = 32'd258155;\n",
      "assign sdif[i].sdpara[7] = 32'd256528;\n",
      "assign sdif[i].sdpara[8] = 32'd260779;\n",
      "assign sdif[i].sdpara[9] = 32'd260322;\n",
      "assign sdif[i].sdpara[10] = 32'd259395;\n",
      "assign sdif[i].sdpara[11] = 32'd103;\n",
      "assign sdif[i].sdpara[12] = 32'd259882;\n",
      "assign sdif[i].sdpara[13] = 32'd1068;\n",
      "assign sdif[i].sdpara[14] = 32'd261695;\n",
      "assign sdif[i].sdpara[15] = 32'd836;\n",
      "assign sdif[i].sdpara[16] = 32'd252554;\n",
      "assign sdif[i].sdpara[17] = 32'd2701;\n",
      "assign sdif[i].sdpara[18] = 32'd5810;\n",
      "assign sdif[i].sdpara[19] = 32'd253763;\n",
      "assign sdif[i].sdpara[20] = 32'd437;\n",
      "assign sdif[i].sdpara[21] = 32'd261622;\n",
      "assign sdif[i].sdpara[22] = 32'd41;\n",
      "assign sdif[i].sdpara[23] = 32'd2479;\n",
      "assign sdif[i].sdpara[24] = 32'd2011;\n",
      "assign sdif[i].sdpara[25] = 32'd137;\n",
      "assign sdif[i].sdpara[26] = 32'd2370;\n",
      "assign sdif[i].sdpara[27] = 32'd1729;\n",
      "assign sdif[i].sdpara[28] = 32'd2013;\n",
      "assign sdif[i].sdpara[29] = 32'd260578;\n",
      "assign sdif[i].sdpara[30] = 32'd261885;\n",
      "assign sdif[i].sdpara[31] = 32'd1045;\n",
      "assign sdif[i].sdpara[32] = 32'd3464;\n",
      "assign sdif[i].sdpara[33] = 32'd259927;\n",
      "assign sdif[i].sdpara[34] = 32'd260604;\n",
      "assign sdif[i].sdpara[35] = 32'd5293;\n",
      "assign sdif[i].sdpara[36] = 32'd260305;\n",
      "assign sdif[i].sdpara[37] = 32'd261029;\n",
      "assign sdif[i].sdpara[38] = 32'd259613;\n",
      "assign sdif[i].sdpara[39] = 32'd23;\n",
      "assign sdif[i].sdpara[40] = 32'd5177;\n",
      "assign sdif[i].sdpara[41] = 32'd259061;\n",
      "assign sdif[i].sdpara[42] = 32'd251268;\n",
      "assign sdif[i].sdpara[43] = 32'd4118;\n",
      "assign sdif[i].sdpara[44] = 32'd6286;\n",
      "assign sdif[i].sdpara[45] = 32'd258528;\n",
      "assign sdif[i].sdpara[46] = 32'd248401;\n",
      "assign sdif[i].sdpara[47] = 32'd4852;\n",
      "assign sdif[i].sdpara[48] = 32'd10271;\n",
      "assign sdif[i].sdpara[49] = 32'd8389;\n",
      "assign sdif[i].sdpara[50] = 32'd255519;\n",
      "assign sdif[i].sdpara[51] = 32'd11340;\n",
      "assign sdif[i].sdpara[52] = 32'd259967;\n",
      "assign sdif[i].sdpara[53] = 32'd0;\n",
      "assign sdif[i].sdpara[54] = 32'd0;\n",
      "assign sdif[i].sdpara[55] = 32'd0;\n",
      "assign sdif[i].sdpara[56] = 32'd856;\n",
      "assign sdif[i].sdpara[57] = 32'd261863;\n",
      "assign sdif[i].sdpara[58] = 32'd2458;\n",
      "assign sdif[i].sdpara[59] = 32'd2533;\n",
      "assign sdif[i].sdpara[60] = 32'd1709;\n",
      "assign sdif[i].sdpara[61] = 32'd261748;\n",
      "assign sdif[i].sdpara[62] = 32'd2171;\n",
      "assign sdif[i].sdpara[63] = 32'd1310;\n",
      "assign sdif[i].sdpara[64] = 32'd260488;\n"
     ]
    }
   ],
   "source": [
    "def convert(x):\n",
    "    integer,fraction=(divmod(x, 1))\n",
    "    # print(integer,fraction)\n",
    "    acc_frac=int(fraction*(2**12))\n",
    "    # print(acc_frac)\n",
    "    fraction_binary=str(bin(acc_frac & 0xFFFF)[2:].zfill(12))\n",
    "    if (int(integer)>=0):\n",
    "        integer_binary=str(bin(int(integer) & 0xFFFF)[2:].zfill(6))\n",
    "    else:\n",
    "        integer_binary=str(bin(int(integer) & 0b111111)[2:].zfill(6))\n",
    "\n",
    "    # print(integer_binary+\" \"+fraction_binary)\n",
    "\n",
    "\n",
    "    def binary_to_integer(binary_string):\n",
    "        decimal_value = int(binary_string, 2)\n",
    "        \n",
    "        return decimal_value\n",
    "\n",
    "    # Example usage\n",
    "    binary_value = integer_binary+fraction_binary \n",
    "    integer_value = binary_to_integer(binary_value)\n",
    "    # print(\"Integer representation:\", integer_value)\n",
    "    return integer_value\n",
    "\n",
    "a=[1.650102615356, -0.530997574329, -0.678145349026, -0.763284623623, 0.306689620018, -0.634541034698, -0.973703563213, -1.370855927467, -0.333239465952, -0.444801062346, -0.670929789543, 0.025319218636, -0.552078127861, 0.260884732008, -0.109572015703, 0.204293012619, -2.341307878494, 0.659653067589, 1.418572664261, -2.045938253403, 0.106822550297, -0.127400636673, 0.010170698166, 0.605238735676, 0.491157472134, 0.033467650414, 0.578841388226, 0.422123968601, 0.491564571857, -0.382231950760, -0.063099384308, 0.255338907242, 0.845854103565, -0.541085779667, -0.375860005617, 1.292284727097, -0.448965311050, -0.272039353848, -0.617745816708, 0.005733262748, 1.263943910599, -0.752497375011, -2.655079364777, 1.005601048470, 1.534817337990, -0.882748425007, -3.355186939240, 1.184622049332, 2.507678985596, 2.048334598541, -1.617360711098, 2.768684625626, -0.531461834908, 0.000000000000, 0.000000000000, 0.000000000000, 0.209193468094, -0.068413667381, 0.600173652172, 0.618502497673, 0.417321592569, -0.096518568695, 0.530215144157, 0.319897711277, -0.404053777456]\n",
    "for i,j in enumerate(a):\n",
    "    print(\"assign sdif[i].sdpara[\"+str(i)+\"] = 32'd\"+str(convert(j))+\";\")"
   ]
  },
  {
   "cell_type": "code",
   "execution_count": null,
   "metadata": {},
   "outputs": [],
   "source": []
  },
  {
   "cell_type": "code",
   "execution_count": null,
   "metadata": {},
   "outputs": [],
   "source": []
  }
 ],
 "metadata": {
  "kernelspec": {
   "display_name": "readout",
   "language": "python",
   "name": "python3"
  },
  "language_info": {
   "codemirror_mode": {
    "name": "ipython",
    "version": 3
   },
   "file_extension": ".py",
   "mimetype": "text/x-python",
   "name": "python",
   "nbconvert_exporter": "python",
   "pygments_lexer": "ipython3",
   "version": "3.10.13"
  }
 },
 "nbformat": 4,
 "nbformat_minor": 2
}
