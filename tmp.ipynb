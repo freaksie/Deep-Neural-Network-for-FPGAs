{
 "cells": [
  {
   "cell_type": "code",
   "execution_count": 2,
   "metadata": {},
   "outputs": [
    {
     "name": "stdout",
     "output_type": "stream",
     "text": [
      "-1.0 0.719\n",
      "736\n",
      "111111 1011100000\n",
      "Integer representation: 65248\n"
     ]
    }
   ],
   "source": [
    "import numpy as np\n",
    "x=  -0.281\n",
    "integer,fraction=(divmod(x, 1))\n",
    "print(integer,fraction)\n",
    "acc_frac=int(fraction*(2**10))\n",
    "print(acc_frac)\n",
    "fraction_binary=str(bin(acc_frac & 0xFFFF)[2:].zfill(10))\n",
    "if (int(integer)>=0):\n",
    "    integer_binary=str(bin(int(integer) & 0xFFFF)[2:].zfill(6))\n",
    "else:\n",
    "    integer_binary=str(bin(int(integer) & 0b111111)[-6:].zfill(6))\n",
    "\n",
    "print(integer_binary+\" \"+fraction_binary)\n",
    "\n",
    "\n",
    "def binary_to_integer(binary_string):\n",
    "    # Convert the binary string to an integer\n",
    "    decimal_value = int(binary_string, 2)\n",
    "    \n",
    "    return decimal_value\n",
    "\n",
    "# Example usage\n",
    "binary_value = integer_binary+fraction_binary  # Replace with your 16-bit binary value\n",
    "integer_value = binary_to_integer(binary_value)\n",
    "print(\"Integer representation:\", integer_value)"
   ]
  },
  {
   "cell_type": "code",
   "execution_count": 49,
   "metadata": {},
   "outputs": [
    {
     "name": "stdout",
     "output_type": "stream",
     "text": [
      "0000000100110000\n"
     ]
    }
   ],
   "source": [
    "verilog_decimal = \"16'd304\"  \n",
    "decimal_value = int(verilog_decimal.split(\"'d\")[1])\n",
    "binary_representation = bin(decimal_value)[2:].zfill(16)\n",
    "\n",
    "# Print the 16-bit binary representation\n",
    "print(binary_representation)"
   ]
  },
  {
   "cell_type": "code",
   "execution_count": 13,
   "metadata": {},
   "outputs": [
    {
     "name": "stdout",
     "output_type": "stream",
     "text": [
      "Binary representation: 1111111001110011\n",
      "Integer representation: 65139\n"
     ]
    }
   ],
   "source": [
    "def signed_hex_to_binary(hex_string):\n",
    "    # Convert the signed hexadecimal string to an integer\n",
    "    decimal_value = int(hex_string, 16)\n",
    "    \n",
    "    # Ensure the value fits within a 16-bit signed integer\n",
    "    if decimal_value < -32768 or decimal_value > 32767:\n",
    "        raise ValueError(\"Value is out of range for a 16-bit signed integer\")\n",
    "\n",
    "    # Convert the decimal value to a 16-bit binary string\n",
    "    binary_string = bin(decimal_value & 0xFFFF)[2:].zfill(16)\n",
    "    \n",
    "    return binary_string\n",
    "\n",
    "# Example usage\n",
    "hex_value = \"-18D\"  # Replace with your signed hexadecimal value\n",
    "binary_representation = signed_hex_to_binary(hex_value)\n",
    "print(\"Binary representation:\", binary_representation)\n",
    "integer_value = binary_to_integer(binary_representation)\n",
    "print(\"Integer representation:\", integer_value)"
   ]
  },
  {
   "cell_type": "code",
   "execution_count": 51,
   "metadata": {},
   "outputs": [
    {
     "name": "stdout",
     "output_type": "stream",
     "text": [
      "Integer: 0\n",
      "Fraction: 304\n",
      "Floating-Point Value: 0.297\n"
     ]
    }
   ],
   "source": [
    "\n",
    "\n",
    "# binary_number = binary_representation[-16:]  # Replace with your 16-bit binary number\n",
    "binary_number= '0000000100110000'\n",
    "# Split the binary number into integer and fraction parts\n",
    "integer_binary = binary_number[:6]\n",
    "fraction_binary = binary_number[6:]\n",
    "\n",
    "# Convert the integer and fraction parts to integers\n",
    "integer_value = int(integer_binary, 2)\n",
    "\n",
    "# Determine if the integer part is negative\n",
    "if integer_binary[0] == '1':\n",
    "    # It's a negative integer\n",
    "    integer_value -= 64  # 64 is 2^6, which is the range of 6-bit two's complement integers\n",
    "\n",
    "fraction_value = int(fraction_binary, 2)\n",
    "\n",
    "# Calculate the final floating-point value\n",
    "x = integer_value + (fraction_value / (2 ** len(fraction_binary)))\n",
    "\n",
    "print(f\"Integer: {integer_value}\")\n",
    "print(f\"Fraction: {fraction_value}\")\n",
    "print(f\"Floating-Point Value: {x:.3f}\")"
   ]
  },
  {
   "cell_type": "markdown",
   "metadata": {},
   "source": [
    "## TMP"
   ]
  },
  {
   "cell_type": "code",
   "execution_count": 19,
   "metadata": {},
   "outputs": [
    {
     "name": "stdout",
     "output_type": "stream",
     "text": [
      "0.0 0.25\n",
      "65536\n",
      "000000 010000000000000000\n",
      "Integer representation: 65536\n"
     ]
    }
   ],
   "source": [
    "import numpy as np\n",
    "x=  0.25\n",
    "integer,fraction=(divmod(x, 1))\n",
    "print(integer,fraction)\n",
    "acc_frac=int(fraction*(2**18))\n",
    "print(acc_frac)\n",
    "fraction_binary=str(bin(acc_frac & 0xFFFFF)[2:].zfill(18))\n",
    "if (int(integer)>=0):\n",
    "    integer_binary=str(bin(int(integer) & 0xFF)[2:].zfill(6))\n",
    "else:\n",
    "    integer_binary=str(bin(int(integer) & 0b111111)[2:].zfill(6))\n",
    "\n",
    "print(integer_binary+\" \"+fraction_binary)\n",
    "\n",
    "\n",
    "def binary_to_integer(binary_string):\n",
    "    decimal_value = int(binary_string, 2)\n",
    "    \n",
    "    return decimal_value\n",
    "\n",
    "# Example usage\n",
    "binary_value = integer_binary+fraction_binary \n",
    "integer_value = binary_to_integer(binary_value)\n",
    "print(\"Integer representation:\", integer_value)"
   ]
  },
  {
   "cell_type": "code",
   "execution_count": 5,
   "metadata": {},
   "outputs": [
    {
     "name": "stdout",
     "output_type": "stream",
     "text": [
      "Integer: 0\n",
      "Fraction: 2500\n",
      "Floating-Point Value: 0.6104\n"
     ]
    }
   ],
   "source": [
    "# 000000100010100101011110011000001000 2**18\n",
    "# 000000000010001010010100101111101000 2**14\n",
    "# 000000000000100010100100100001101100 2**12\n",
    "\n",
    "# 000000100000011110000100000000000000\n",
    "# 001111100000000000000000001111000010\n",
    "# binary_number = binary_representation[-16:]  \n",
    "binary_number= '000000100111000100'\n",
    "# 000000100111000100\n",
    "integer_binary = binary_number[:6]\n",
    "fraction_binary = binary_number[6:]\n",
    "\n",
    "\n",
    "integer_value = int(integer_binary, 2)\n",
    "\n",
    "# Determine if the integer part is negative\n",
    "if integer_binary[0] == '1':\n",
    "    integer_value -= 2**6 # 64 is 2^6, which is the range of 6-bit two's complement integers\n",
    "\n",
    "fraction_value = int(fraction_binary, 2)\n",
    "\n",
    "x = integer_value + (fraction_value / (2 ** len(fraction_binary)))\n",
    "\n",
    "print(f\"Integer: {integer_value}\")\n",
    "print(f\"Fraction: {fraction_value}\")\n",
    "print(f\"Floating-Point Value: {x:.4f}\")"
   ]
  },
  {
   "cell_type": "code",
   "execution_count": 4,
   "metadata": {},
   "outputs": [
    {
     "name": "stdout",
     "output_type": "stream",
     "text": [
      "2560136.0 41945268224.0 10000.53125 2500.1328125\n",
      "0.6103842258453369\n"
     ]
    }
   ],
   "source": [
    "# [[  30793.  462985.]\n",
    "x= 462985.0\n",
    "ans=x+(2**21)-1\n",
    "multi=ans*(2**14) # 16384 for decimal inclusion\n",
    "divid=multi/(2**22)\n",
    "normal=(divid*(0.25)) # 2**12/2**14\n",
    "\n",
    "print(ans,multi,divid,normal)\n",
    "\n",
    "print(((x+(2**21))/2**22))\n",
    "# y=0.5676021575927734\n",
    "# print((y*(2**19))-(2**18))\n",
    "#1000000000000000000011110000100000000000000000\n",
    "#1000000000000000000011110000100000000000000000"
   ]
  },
  {
   "cell_type": "code",
   "execution_count": 2,
   "metadata": {},
   "outputs": [
    {
     "data": {
      "text/plain": [
       "2127944"
      ]
     },
     "execution_count": 2,
     "metadata": {},
     "output_type": "execute_result"
    }
   ],
   "source": [
    "0b0000000000000000000000000000000000000000000000000000000000000000"
   ]
  },
  {
   "cell_type": "markdown",
   "metadata": {},
   "source": [
    "## 32 bit"
   ]
  },
  {
   "cell_type": "code",
   "execution_count": 1,
   "metadata": {},
   "outputs": [
    {
     "name": "stdout",
     "output_type": "stream",
     "text": [
      "4096 0\n",
      "00000000000000000001000000000000\n",
      "Integer representation: 4096\n"
     ]
    }
   ],
   "source": [
    "import numpy as np\n",
    "x= 2**12\n",
    "integer,fraction=(divmod(x, 1))\n",
    "print(integer,fraction)\n",
    "if (int(integer)>=0):\n",
    "    integer_binary=str(bin(int(integer) & 0xFFFFFFFFF)[2:].zfill(32))\n",
    "else:\n",
    "    integer_binary=str(bin(int(integer) & 0b11111111111111111111111111111111)[2:].zfill(32))\n",
    "\n",
    "print(integer_binary)\n",
    "\n",
    "\n",
    "def binary_to_integer(binary_string):\n",
    "    # Convert the binary string to an integer\n",
    "    decimal_value = int(binary_string, 2)\n",
    "    \n",
    "    return decimal_value\n",
    "\n",
    "# Example usage\n",
    "binary_value = integer_binary  # Replace with your 16-bit binary value\n",
    "integer_value = binary_to_integer(binary_value)\n",
    "print(\"Integer representation:\", integer_value)"
   ]
  },
  {
   "cell_type": "markdown",
   "metadata": {},
   "source": [
    "## 18 bit \n",
    "signed range -2^18 + 2^18, requries 19 bit"
   ]
  },
  {
   "cell_type": "code",
   "execution_count": 80,
   "metadata": {},
   "outputs": [
    {
     "name": "stdout",
     "output_type": "stream",
     "text": [
      "-262141 0\n",
      "1000000000000000011\n",
      "Integer representation: 262147\n"
     ]
    }
   ],
   "source": [
    "import numpy as np\n",
    "x=  -262141\n",
    "integer,fraction=(divmod(x, 1))\n",
    "print(integer,fraction)\n",
    "if (int(integer)>=0):\n",
    "    integer_binary=str(bin(int(integer) & 0xFFFFFFFFF)[2:].zfill(19))\n",
    "else:\n",
    "    integer_binary=str(bin(int(integer) & 0b1111111111111111111)[2:].zfill(19))\n",
    "\n",
    "print(integer_binary)\n",
    "\n",
    "\n",
    "def binary_to_integer(binary_string):\n",
    "    # Convert the binary string to an integer\n",
    "    decimal_value = int(binary_string, 2)\n",
    "    \n",
    "    return decimal_value\n",
    "\n",
    "# Example usage\n",
    "binary_value = integer_binary  # Replace with your 16-bit binary value\n",
    "integer_value = binary_to_integer(binary_value)\n",
    "print(\"Integer representation:\", integer_value)"
   ]
  },
  {
   "cell_type": "code",
   "execution_count": 3,
   "metadata": {},
   "outputs": [
    {
     "name": "stdout",
     "output_type": "stream",
     "text": [
      "b'W\\xf8\\x03\\x00\\xfe\\x12\\x00\\x00\\xd6\\xfc\\x03\\x00g\\xfa\\x03\\x00\\xfd\\xff\\x03\\x00b\\xf7\\x03\\x00w\\x10\\x00\\x00\\x1f\\x13\\x00\\x00\\xea\\x04\\x00\\x006\\x11\\x00\\x00z\\xf4\\x03\\x00\\x01\\xfa\\x03\\x00\\x11\\xfb\\x03\\x00\\xfb\\xfe\\x03\\x00\\x02\\x0c\\x00\\x00:\\x08\\x00\\x00\\t\\xf8\\x03\\x00\\xd4\\xfb\\x03\\x00\\xd8\\x04\\x00\\x00I\\t\\x00\\x00\\n\\xf9\\x03\\x00\\xa2\\x17\\x00\\x00\\xa0\\xfe\\x03\\x00\\xa0\\x1b\\x00\\x00c\\xfc\\x03\\x00\\xdb\\xfb\\x03\\x00\\xe7\\x00\\x00\\x00\\xd2\\t\\x00\\x00\\xc8\\x07\\x00\\x00C\\x0b\\x00\\x00\\x1c\\xf8\\x03\\x00A\\xf8\\x03\\x00\\xdd\\xf8\\x03\\x00\\x93\\xf6\\x03\\x00\\xc0\\xfe\\x03\\x00\\xd9\\xfd\\x03\\x00\\xc5\\n\\x00\\x00w\\xfc\\x03\\x00h\\x04\\x00\\x00\\xf4\\xf4\\x03\\x00\\x1c\\x03\\x00\\x00\\xca#\\x00\\x00\\xec\\xf9\\x03\\x00W4\\x00\\x00\\x0c\\t\\x00\\x00\\xce-\\x00\\x00P\\x00\\x00\\x00\\x85 \\x00\\x00\\xe3\\x0c\\x00\\x00\\xde\\xc7\\x03\\x00\\xe0\\xef\\x03\\x00\\x93\\xcb\\x03\\x00\\x9a\\xff\\x03\\x00\\x9e\\xf4\\x03\\x00\\x00\\x00\\x00\\x00\\x00\\x00\\x00\\x00\\x00\\x00\\x00\\x00\\x00\\x00\\x00\\x00\\xac\\xf3\\x03\\x00\\xda\\xf4\\x03\\x00\\xf1\\xff\\x03\\x00[\\xf7\\x03\\x00\\x00\\x00\\x00\\x00\\x9b\\xf6\\x03\\x00LY\\x00\\x00\\xff\\xff\\x03\\x00ef\\x00\\x00'\n",
      "[260183   4862 261334 260711 262141 259938   4215   4895   1258   4406\n",
      " 259194 260609 260881 261883   3074   2106 260105 261076   1240   2377\n",
      " 260362   6050 261792   7072 261219 261083    231   2514   1992   2883\n",
      " 260124 260161 260317 259731 261824 261593   2757 261239   1128 259316\n",
      "    796   9162 260588  13399   2316  11726     80   8325   3299 247774\n",
      " 258016 248723 262042 259230      0      0      0      0 258988 259290\n",
      " 262129 259931      0 259739  22860 262143  26213]\n",
      "[0 0 0 0 0 0 0 0 0 0 0 0 0 0 0 0 0 0 0 0 0 0 0 0 0 0 0 0 0 0 0 0 0 0 0 0 0\n",
      " 0 0 0 0 0 0 0 0 0 0 0 0 0 0 0 0 0 0 0 0 0 0 0 0 0 0 0 0 0 0]\n"
     ]
    }
   ],
   "source": [
    "import numpy as np\n",
    "tmp = [260183,4862,261334,260711,262141,259938,4215,4895,1258,4406,259194,260609,260881,261883,3074,2106,260105,261076,1240,2377,260362,6050,261792,7072,261219,261083,231,2514,1992,2883,260124,260161,260317, 259731,261824,261593,2757,261239,1128,259316,796,9162,260588,13399,2316,11726,80,8325,3299,247774,258016,248723,262042,259230,0,0,0,0,258988,259290,262129,259931,0,259739,22860,262143,26213]\n",
    "encode=np.array(tmp,dtype='uint32').tobytes()\n",
    "print(encode)\n",
    "decode=np.frombuffer(encode,dtype='uint32')\n",
    "print(decode)"
   ]
  },
  {
   "cell_type": "code",
   "execution_count": null,
   "metadata": {},
   "outputs": [],
   "source": []
  }
 ],
 "metadata": {
  "kernelspec": {
   "display_name": "readout",
   "language": "python",
   "name": "python3"
  },
  "language_info": {
   "codemirror_mode": {
    "name": "ipython",
    "version": 3
   },
   "file_extension": ".py",
   "mimetype": "text/x-python",
   "name": "python",
   "nbconvert_exporter": "python",
   "pygments_lexer": "ipython3",
   "version": "3.10.13"
  }
 },
 "nbformat": 4,
 "nbformat_minor": 2
}
